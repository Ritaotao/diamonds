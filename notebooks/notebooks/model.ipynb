{
 "cells": [
  {
   "cell_type": "code",
   "execution_count": 1,
   "metadata": {},
   "outputs": [],
   "source": [
    "import os\n",
    "import numpy as np\n",
    "import pandas as pd\n",
    "\n",
    "import scipy.stats as stats\n",
    "\n",
    "import seaborn as sns\n",
    "import matplotlib.pyplot as plt\n",
    "%matplotlib inline"
   ]
  },
  {
   "cell_type": "code",
   "execution_count": 2,
   "metadata": {},
   "outputs": [],
   "source": [
    "from sklearn.model_selection import train_test_split, cross_val_score, KFold\n",
    "from sklearn.pipeline import Pipeline\n",
    "from sklearn.preprocessing import MinMaxScaler, PolynomialFeatures\n",
    "\n",
    "\n",
    "from sklearn.linear_model import LinearRegression, Ridge, Lasso, LassoCV, LassoLars, BayesianRidge\n",
    "from sklearn.svm import SVR\n",
    "from sklearn.tree import DecisionTreeRegressor\n",
    "from sklearn.ensemble import RandomForestRegressor, GradientBoostingRegressor, AdaBoostRegressor, ExtraTreesRegressor\n",
    "\n",
    "from sklearn.feature_selection import RFE, RFECV, SelectFromModel, SelectKBest, SelectPercentile, f_regression, mutual_info_regression\n",
    "from sklearn.metrics import mean_squared_error, r2_score"
   ]
  },
  {
   "cell_type": "code",
   "execution_count": 3,
   "metadata": {},
   "outputs": [],
   "source": [
    "import tensorflow as tf\n",
    "from tensorflow import keras"
   ]
  },
  {
   "cell_type": "code",
   "execution_count": 17,
   "metadata": {},
   "outputs": [],
   "source": [
    "np.random.seed(42)\n",
    "# Make numpy values easier to read.\n",
    "np.set_printoptions(precision=3, suppress=True)"
   ]
  },
  {
   "cell_type": "code",
   "execution_count": 9,
   "metadata": {},
   "outputs": [
    {
     "data": {
      "text/html": [
       "<div>\n",
       "<style scoped>\n",
       "    .dataframe tbody tr th:only-of-type {\n",
       "        vertical-align: middle;\n",
       "    }\n",
       "\n",
       "    .dataframe tbody tr th {\n",
       "        vertical-align: top;\n",
       "    }\n",
       "\n",
       "    .dataframe thead th {\n",
       "        text-align: right;\n",
       "    }\n",
       "</style>\n",
       "<table border=\"1\" class=\"dataframe\">\n",
       "  <thead>\n",
       "    <tr style=\"text-align: right;\">\n",
       "      <th></th>\n",
       "      <th>price</th>\n",
       "      <th>carat</th>\n",
       "      <th>depth</th>\n",
       "      <th>lxwRatio</th>\n",
       "      <th>table</th>\n",
       "      <th>sellingIndex</th>\n",
       "      <th>hasVisualization</th>\n",
       "      <th>length</th>\n",
       "      <th>width</th>\n",
       "      <th>height</th>\n",
       "      <th>cat_clarity</th>\n",
       "      <th>cat_color</th>\n",
       "      <th>cat_cut</th>\n",
       "      <th>cat_culet</th>\n",
       "      <th>cat_polish</th>\n",
       "      <th>cat_symmetry</th>\n",
       "      <th>cat_fluorescence_reduced</th>\n",
       "    </tr>\n",
       "  </thead>\n",
       "  <tbody>\n",
       "    <tr>\n",
       "      <th>0</th>\n",
       "      <td>10001</td>\n",
       "      <td>1.50</td>\n",
       "      <td>59.9</td>\n",
       "      <td>1.01</td>\n",
       "      <td>60.0</td>\n",
       "      <td>0.191319</td>\n",
       "      <td>1</td>\n",
       "      <td>7.45</td>\n",
       "      <td>7.40</td>\n",
       "      <td>4.44</td>\n",
       "      <td>1</td>\n",
       "      <td>3</td>\n",
       "      <td>2</td>\n",
       "      <td>4</td>\n",
       "      <td>2</td>\n",
       "      <td>2</td>\n",
       "      <td>4</td>\n",
       "    </tr>\n",
       "    <tr>\n",
       "      <th>1</th>\n",
       "      <td>10002</td>\n",
       "      <td>1.51</td>\n",
       "      <td>62.7</td>\n",
       "      <td>1.01</td>\n",
       "      <td>57.0</td>\n",
       "      <td>0.333796</td>\n",
       "      <td>0</td>\n",
       "      <td>7.32</td>\n",
       "      <td>7.26</td>\n",
       "      <td>4.57</td>\n",
       "      <td>2</td>\n",
       "      <td>3</td>\n",
       "      <td>2</td>\n",
       "      <td>4</td>\n",
       "      <td>2</td>\n",
       "      <td>2</td>\n",
       "      <td>4</td>\n",
       "    </tr>\n",
       "    <tr>\n",
       "      <th>2</th>\n",
       "      <td>10004</td>\n",
       "      <td>1.05</td>\n",
       "      <td>61.7</td>\n",
       "      <td>1.00</td>\n",
       "      <td>57.0</td>\n",
       "      <td>0.193977</td>\n",
       "      <td>1</td>\n",
       "      <td>6.52</td>\n",
       "      <td>6.49</td>\n",
       "      <td>4.02</td>\n",
       "      <td>5</td>\n",
       "      <td>6</td>\n",
       "      <td>2</td>\n",
       "      <td>4</td>\n",
       "      <td>2</td>\n",
       "      <td>2</td>\n",
       "      <td>2</td>\n",
       "    </tr>\n",
       "    <tr>\n",
       "      <th>3</th>\n",
       "      <td>10005</td>\n",
       "      <td>1.35</td>\n",
       "      <td>62.1</td>\n",
       "      <td>1.01</td>\n",
       "      <td>58.0</td>\n",
       "      <td>0.245716</td>\n",
       "      <td>1</td>\n",
       "      <td>7.07</td>\n",
       "      <td>7.03</td>\n",
       "      <td>4.38</td>\n",
       "      <td>2</td>\n",
       "      <td>4</td>\n",
       "      <td>2</td>\n",
       "      <td>4</td>\n",
       "      <td>2</td>\n",
       "      <td>2</td>\n",
       "      <td>4</td>\n",
       "    </tr>\n",
       "    <tr>\n",
       "      <th>4</th>\n",
       "      <td>10005</td>\n",
       "      <td>1.40</td>\n",
       "      <td>62.7</td>\n",
       "      <td>1.01</td>\n",
       "      <td>58.0</td>\n",
       "      <td>0.561808</td>\n",
       "      <td>1</td>\n",
       "      <td>7.06</td>\n",
       "      <td>7.12</td>\n",
       "      <td>4.44</td>\n",
       "      <td>4</td>\n",
       "      <td>3</td>\n",
       "      <td>2</td>\n",
       "      <td>4</td>\n",
       "      <td>2</td>\n",
       "      <td>2</td>\n",
       "      <td>4</td>\n",
       "    </tr>\n",
       "  </tbody>\n",
       "</table>\n",
       "</div>"
      ],
      "text/plain": [
       "   price  carat  depth  lxwRatio  table  sellingIndex  hasVisualization  \\\n",
       "0  10001   1.50   59.9      1.01   60.0      0.191319                 1   \n",
       "1  10002   1.51   62.7      1.01   57.0      0.333796                 0   \n",
       "2  10004   1.05   61.7      1.00   57.0      0.193977                 1   \n",
       "3  10005   1.35   62.1      1.01   58.0      0.245716                 1   \n",
       "4  10005   1.40   62.7      1.01   58.0      0.561808                 1   \n",
       "\n",
       "   length  width  height  cat_clarity  cat_color  cat_cut  cat_culet  \\\n",
       "0    7.45   7.40    4.44            1          3        2          4   \n",
       "1    7.32   7.26    4.57            2          3        2          4   \n",
       "2    6.52   6.49    4.02            5          6        2          4   \n",
       "3    7.07   7.03    4.38            2          4        2          4   \n",
       "4    7.06   7.12    4.44            4          3        2          4   \n",
       "\n",
       "   cat_polish  cat_symmetry  cat_fluorescence_reduced  \n",
       "0           2             2                         4  \n",
       "1           2             2                         4  \n",
       "2           2             2                         2  \n",
       "3           2             2                         4  \n",
       "4           2             2                         4  "
      ]
     },
     "execution_count": 9,
     "metadata": {},
     "output_type": "execute_result"
    }
   ],
   "source": [
    "path = '~/WorkDocs/Code/diamonds/data/diamonds_20200602_preprocess.csv'\n",
    "df = pd.read_csv(path)\n",
    "df.head()"
   ]
  },
  {
   "cell_type": "code",
   "execution_count": 7,
   "metadata": {},
   "outputs": [],
   "source": [
    "# we can capture symmetry by directly using length/width\n",
    "df['length/width'] = df['length'] / df['width']"
   ]
  },
  {
   "cell_type": "code",
   "execution_count": 8,
   "metadata": {},
   "outputs": [
    {
     "data": {
      "text/html": [
       "<div>\n",
       "<style scoped>\n",
       "    .dataframe tbody tr th:only-of-type {\n",
       "        vertical-align: middle;\n",
       "    }\n",
       "\n",
       "    .dataframe tbody tr th {\n",
       "        vertical-align: top;\n",
       "    }\n",
       "\n",
       "    .dataframe thead th {\n",
       "        text-align: right;\n",
       "    }\n",
       "</style>\n",
       "<table border=\"1\" class=\"dataframe\">\n",
       "  <thead>\n",
       "    <tr style=\"text-align: right;\">\n",
       "      <th></th>\n",
       "      <th>price</th>\n",
       "      <th>carat</th>\n",
       "      <th>depth</th>\n",
       "      <th>lxwRatio</th>\n",
       "      <th>table</th>\n",
       "      <th>sellingIndex</th>\n",
       "      <th>hasVisualization</th>\n",
       "      <th>length</th>\n",
       "      <th>width</th>\n",
       "      <th>height</th>\n",
       "      <th>cat_clarity</th>\n",
       "      <th>cat_color</th>\n",
       "      <th>cat_cut</th>\n",
       "      <th>cat_culet</th>\n",
       "      <th>cat_polish</th>\n",
       "      <th>cat_symmetry</th>\n",
       "      <th>cat_fluorescence_reduced</th>\n",
       "      <th>length/width</th>\n",
       "    </tr>\n",
       "  </thead>\n",
       "  <tbody>\n",
       "    <tr>\n",
       "      <th>count</th>\n",
       "      <td>14705.000000</td>\n",
       "      <td>14705.000000</td>\n",
       "      <td>14705.000000</td>\n",
       "      <td>14705.000000</td>\n",
       "      <td>14705.000000</td>\n",
       "      <td>14705.000000</td>\n",
       "      <td>14705.000000</td>\n",
       "      <td>14705.000000</td>\n",
       "      <td>14705.000000</td>\n",
       "      <td>14705.000000</td>\n",
       "      <td>14705.000000</td>\n",
       "      <td>14705.000000</td>\n",
       "      <td>14705.000000</td>\n",
       "      <td>14705.000000</td>\n",
       "      <td>14705.000000</td>\n",
       "      <td>14705.000000</td>\n",
       "      <td>14705.000000</td>\n",
       "      <td>14705.000000</td>\n",
       "    </tr>\n",
       "    <tr>\n",
       "      <th>mean</th>\n",
       "      <td>17032.758177</td>\n",
       "      <td>1.831152</td>\n",
       "      <td>62.056307</td>\n",
       "      <td>1.007108</td>\n",
       "      <td>57.966066</td>\n",
       "      <td>0.260637</td>\n",
       "      <td>0.711595</td>\n",
       "      <td>7.769472</td>\n",
       "      <td>7.769338</td>\n",
       "      <td>4.820979</td>\n",
       "      <td>2.843047</td>\n",
       "      <td>4.157293</td>\n",
       "      <td>1.839238</td>\n",
       "      <td>3.887657</td>\n",
       "      <td>1.961850</td>\n",
       "      <td>1.892690</td>\n",
       "      <td>3.398300</td>\n",
       "      <td>1.000062</td>\n",
       "    </tr>\n",
       "    <tr>\n",
       "      <th>std</th>\n",
       "      <td>4316.882473</td>\n",
       "      <td>0.399186</td>\n",
       "      <td>1.195928</td>\n",
       "      <td>0.004762</td>\n",
       "      <td>1.755220</td>\n",
       "      <td>0.179514</td>\n",
       "      <td>0.453036</td>\n",
       "      <td>0.553215</td>\n",
       "      <td>0.555594</td>\n",
       "      <td>0.357458</td>\n",
       "      <td>1.727052</td>\n",
       "      <td>1.987091</td>\n",
       "      <td>0.420176</td>\n",
       "      <td>0.521857</td>\n",
       "      <td>0.197164</td>\n",
       "      <td>0.332811</td>\n",
       "      <td>0.968497</td>\n",
       "      <td>0.006621</td>\n",
       "    </tr>\n",
       "    <tr>\n",
       "      <th>min</th>\n",
       "      <td>10001.000000</td>\n",
       "      <td>0.900000</td>\n",
       "      <td>55.300000</td>\n",
       "      <td>1.000000</td>\n",
       "      <td>52.000000</td>\n",
       "      <td>0.000870</td>\n",
       "      <td>0.000000</td>\n",
       "      <td>6.060000</td>\n",
       "      <td>6.110000</td>\n",
       "      <td>1.510000</td>\n",
       "      <td>0.000000</td>\n",
       "      <td>0.000000</td>\n",
       "      <td>0.000000</td>\n",
       "      <td>0.000000</td>\n",
       "      <td>0.000000</td>\n",
       "      <td>0.000000</td>\n",
       "      <td>0.000000</td>\n",
       "      <td>0.972585</td>\n",
       "    </tr>\n",
       "    <tr>\n",
       "      <th>25%</th>\n",
       "      <td>14074.000000</td>\n",
       "      <td>1.520000</td>\n",
       "      <td>61.600000</td>\n",
       "      <td>1.000000</td>\n",
       "      <td>57.000000</td>\n",
       "      <td>0.115079</td>\n",
       "      <td>0.000000</td>\n",
       "      <td>7.370000</td>\n",
       "      <td>7.370000</td>\n",
       "      <td>4.570000</td>\n",
       "      <td>1.000000</td>\n",
       "      <td>3.000000</td>\n",
       "      <td>2.000000</td>\n",
       "      <td>4.000000</td>\n",
       "      <td>2.000000</td>\n",
       "      <td>2.000000</td>\n",
       "      <td>3.000000</td>\n",
       "      <td>0.993902</td>\n",
       "    </tr>\n",
       "    <tr>\n",
       "      <th>50%</th>\n",
       "      <td>16338.000000</td>\n",
       "      <td>1.820000</td>\n",
       "      <td>62.300000</td>\n",
       "      <td>1.010000</td>\n",
       "      <td>58.000000</td>\n",
       "      <td>0.217766</td>\n",
       "      <td>1.000000</td>\n",
       "      <td>7.800000</td>\n",
       "      <td>7.800000</td>\n",
       "      <td>4.850000</td>\n",
       "      <td>3.000000</td>\n",
       "      <td>4.000000</td>\n",
       "      <td>2.000000</td>\n",
       "      <td>4.000000</td>\n",
       "      <td>2.000000</td>\n",
       "      <td>2.000000</td>\n",
       "      <td>4.000000</td>\n",
       "      <td>1.002478</td>\n",
       "    </tr>\n",
       "    <tr>\n",
       "      <th>75%</th>\n",
       "      <td>19655.000000</td>\n",
       "      <td>2.010000</td>\n",
       "      <td>62.700000</td>\n",
       "      <td>1.010000</td>\n",
       "      <td>59.000000</td>\n",
       "      <td>0.375305</td>\n",
       "      <td>1.000000</td>\n",
       "      <td>8.090000</td>\n",
       "      <td>8.100000</td>\n",
       "      <td>5.040000</td>\n",
       "      <td>4.000000</td>\n",
       "      <td>6.000000</td>\n",
       "      <td>2.000000</td>\n",
       "      <td>4.000000</td>\n",
       "      <td>2.000000</td>\n",
       "      <td>2.000000</td>\n",
       "      <td>4.000000</td>\n",
       "      <td>1.006079</td>\n",
       "    </tr>\n",
       "    <tr>\n",
       "      <th>max</th>\n",
       "      <td>29994.000000</td>\n",
       "      <td>4.030000</td>\n",
       "      <td>67.900000</td>\n",
       "      <td>1.030000</td>\n",
       "      <td>68.000000</td>\n",
       "      <td>0.918382</td>\n",
       "      <td>1.000000</td>\n",
       "      <td>10.190000</td>\n",
       "      <td>10.190000</td>\n",
       "      <td>6.390000</td>\n",
       "      <td>7.000000</td>\n",
       "      <td>7.000000</td>\n",
       "      <td>3.000000</td>\n",
       "      <td>4.000000</td>\n",
       "      <td>2.000000</td>\n",
       "      <td>2.000000</td>\n",
       "      <td>4.000000</td>\n",
       "      <td>1.022636</td>\n",
       "    </tr>\n",
       "  </tbody>\n",
       "</table>\n",
       "</div>"
      ],
      "text/plain": [
       "              price         carat         depth      lxwRatio         table  \\\n",
       "count  14705.000000  14705.000000  14705.000000  14705.000000  14705.000000   \n",
       "mean   17032.758177      1.831152     62.056307      1.007108     57.966066   \n",
       "std     4316.882473      0.399186      1.195928      0.004762      1.755220   \n",
       "min    10001.000000      0.900000     55.300000      1.000000     52.000000   \n",
       "25%    14074.000000      1.520000     61.600000      1.000000     57.000000   \n",
       "50%    16338.000000      1.820000     62.300000      1.010000     58.000000   \n",
       "75%    19655.000000      2.010000     62.700000      1.010000     59.000000   \n",
       "max    29994.000000      4.030000     67.900000      1.030000     68.000000   \n",
       "\n",
       "       sellingIndex  hasVisualization        length         width  \\\n",
       "count  14705.000000      14705.000000  14705.000000  14705.000000   \n",
       "mean       0.260637          0.711595      7.769472      7.769338   \n",
       "std        0.179514          0.453036      0.553215      0.555594   \n",
       "min        0.000870          0.000000      6.060000      6.110000   \n",
       "25%        0.115079          0.000000      7.370000      7.370000   \n",
       "50%        0.217766          1.000000      7.800000      7.800000   \n",
       "75%        0.375305          1.000000      8.090000      8.100000   \n",
       "max        0.918382          1.000000     10.190000     10.190000   \n",
       "\n",
       "             height   cat_clarity     cat_color       cat_cut     cat_culet  \\\n",
       "count  14705.000000  14705.000000  14705.000000  14705.000000  14705.000000   \n",
       "mean       4.820979      2.843047      4.157293      1.839238      3.887657   \n",
       "std        0.357458      1.727052      1.987091      0.420176      0.521857   \n",
       "min        1.510000      0.000000      0.000000      0.000000      0.000000   \n",
       "25%        4.570000      1.000000      3.000000      2.000000      4.000000   \n",
       "50%        4.850000      3.000000      4.000000      2.000000      4.000000   \n",
       "75%        5.040000      4.000000      6.000000      2.000000      4.000000   \n",
       "max        6.390000      7.000000      7.000000      3.000000      4.000000   \n",
       "\n",
       "         cat_polish  cat_symmetry  cat_fluorescence_reduced  length/width  \n",
       "count  14705.000000  14705.000000              14705.000000  14705.000000  \n",
       "mean       1.961850      1.892690                  3.398300      1.000062  \n",
       "std        0.197164      0.332811                  0.968497      0.006621  \n",
       "min        0.000000      0.000000                  0.000000      0.972585  \n",
       "25%        2.000000      2.000000                  3.000000      0.993902  \n",
       "50%        2.000000      2.000000                  4.000000      1.002478  \n",
       "75%        2.000000      2.000000                  4.000000      1.006079  \n",
       "max        2.000000      2.000000                  4.000000      1.022636  "
      ]
     },
     "execution_count": 8,
     "metadata": {},
     "output_type": "execute_result"
    }
   ],
   "source": [
    "df.describe()"
   ]
  },
  {
   "cell_type": "code",
   "execution_count": 156,
   "metadata": {},
   "outputs": [],
   "source": [
    "dv = 'price'\n",
    "# but given length/width stdev so small, we throw it out\n",
    "iv_exclude_list = [dv, 'lxwRatio', 'cat_symmetry', 'length/width']\n",
    "iv = [c for c in df.columns if c not in iv_exclude_list]"
   ]
  },
  {
   "cell_type": "code",
   "execution_count": 157,
   "metadata": {},
   "outputs": [
    {
     "name": "stdout",
     "output_type": "stream",
     "text": [
      "['carat', 'depth', 'table', 'sellingIndex', 'hasVisualization', 'length', 'width', 'height', 'cat_clarity', 'cat_color', 'cat_cut', 'cat_culet', 'cat_polish', 'cat_fluorescence_reduced']\n"
     ]
    }
   ],
   "source": [
    "print(iv)"
   ]
  },
  {
   "cell_type": "code",
   "execution_count": 158,
   "metadata": {},
   "outputs": [],
   "source": [
    "# Hold out 0.2 as test data, split remaining to 0.67 vs 0.33 for train and validation\n",
    "X, y = df[iv], df[dv]\n",
    "\n",
    "X_train, X_test, y_train, y_test = train_test_split(X, y, test_size=0.2, random_state=SEED)\n",
    "# X_train, X_valid, y_train, y_valid = train_test_split(X_train, y_train, test_size=0.33, random_state=SEED)"
   ]
  },
  {
   "cell_type": "code",
   "execution_count": 159,
   "metadata": {},
   "outputs": [],
   "source": [
    "poly_features = PolynomialFeatures(degree=2, include_bias=False)\n",
    "X_train_poly = poly_features.fit_transform(X_train)"
   ]
  },
  {
   "cell_type": "code",
   "execution_count": 160,
   "metadata": {},
   "outputs": [],
   "source": [
    "# create a clean version of polynomial feature names\n",
    "poly_feature_names = poly_features.get_feature_names()\n",
    "\n",
    "feature_maps = {}\n",
    "for i in range(len(iv)):\n",
    "    feature_maps['x{}'.format(i)] = iv[i]\n",
    "    \n",
    "poly_feature_names_clean = []\n",
    "for name in poly_feature_names:\n",
    "    if ' ' in name:\n",
    "        new_name = ' '.join([feature_maps[item] for item in name.split(' ')])\n",
    "    elif '^' in name:\n",
    "        x, degree = name.split('^')\n",
    "        new_name = '^'.join([feature_maps[x], degree])\n",
    "    else:\n",
    "        new_name = feature_maps[name]\n",
    "    poly_feature_names_clean.append(new_name)"
   ]
  },
  {
   "cell_type": "code",
   "execution_count": 161,
   "metadata": {},
   "outputs": [],
   "source": [
    "def print_cv_score(model, x, y, cv=5):\n",
    "    scores = cross_val_score(model, x, y, scoring='neg_mean_squared_error', cv=5)\n",
    "    root_scores = np.sqrt(-scores)\n",
    "    print(\"Root mean squared error: %0.2f (+/- %0.2f)\" % (root_scores.mean(), root_scores.std() * 2))\n",
    "    return root_scores"
   ]
  },
  {
   "cell_type": "code",
   "execution_count": 162,
   "metadata": {},
   "outputs": [
    {
     "name": "stdout",
     "output_type": "stream",
     "text": [
      "Root mean squared error: 1865.10 (+/- 85.25)\n"
     ]
    }
   ],
   "source": [
    "lr = LinearRegression()\n",
    "lr_scores = print_cv_score(lr, X_train, y_train)"
   ]
  },
  {
   "cell_type": "code",
   "execution_count": 163,
   "metadata": {},
   "outputs": [
    {
     "name": "stdout",
     "output_type": "stream",
     "text": [
      "Root mean squared error: 1142.88 (+/- 45.73)\n"
     ]
    }
   ],
   "source": [
    "lr = LinearRegression()\n",
    "lr_poly2_scores = print_cv_score(lr, X_train_poly, y_train)"
   ]
  },
  {
   "cell_type": "code",
   "execution_count": 164,
   "metadata": {},
   "outputs": [],
   "source": [
    "et = ExtraTreesRegressor(n_estimators=100)\n",
    "et = et.fit(X_train_poly, y_train)"
   ]
  },
  {
   "cell_type": "code",
   "execution_count": 165,
   "metadata": {},
   "outputs": [],
   "source": [
    "def plot_top_n_features(importances, feature_names, n=10):\n",
    "    top_n_inds = importances.argsort()[-n:][::-1]\n",
    "    top_n_names = [feature_names[i] for i in top_n_inds]\n",
    "    top_n_values = importances[top_n_inds]\n",
    "    \n",
    "    fig, ax = plt.subplots(figsize=(10, 10))\n",
    "    sns.barplot(x=top_n_values, y=top_n_names, ax=ax)"
   ]
  },
  {
   "cell_type": "code",
   "execution_count": 166,
   "metadata": {},
   "outputs": [
    {
     "data": {
      "image/png": "[encoded data removed]",
      "text/plain": [
       "<Figure size 720x720 with 1 Axes>"
      ]
     },
     "metadata": {
      "needs_background": "light"
     },
     "output_type": "display_data"
    }
   ],
   "source": [
    "feature_importances = et.feature_importances_\n",
    "\n",
    "plot_top_n_features(feature_importances, poly_feature_names_clean, 50)"
   ]
  },
  {
   "cell_type": "code",
   "execution_count": 167,
   "metadata": {},
   "outputs": [
    {
     "name": "stdout",
     "output_type": "stream",
     "text": [
      "(11764, 60)\n",
      "Root mean squared error: 1240.75 (+/- 53.72)\n"
     ]
    }
   ],
   "source": [
    "X_train_poly_et = SelectFromModel(et, prefit=True, threshold=\"median\").transform(X_train_poly)\n",
    "print(X_train_poly_et.shape)\n",
    "lr_poly2_scores = print_cv_score(lr, X_train_poly_et, y_train)"
   ]
  },
  {
   "cell_type": "code",
   "execution_count": null,
   "metadata": {},
   "outputs": [],
   "source": [
    "lr = LinearRegression()\n",
    "lr.fit(X_train_poly, y_train)\n",
    "\n",
    "predictions = lr.predict(X_train_poly)"
   ]
  },
  {
   "cell_type": "code",
   "execution_count": 112,
   "metadata": {},
   "outputs": [
    {
     "data": {
      "text/plain": [
       "carat                        1.300000\n",
       "depth                       62.100000\n",
       "table                       57.000000\n",
       "sellingIndex                 0.673732\n",
       "hasVisualization             1.000000\n",
       "length                       6.950000\n",
       "width                        6.980000\n",
       "height                       4.330000\n",
       "cat_clarity                  7.000000\n",
       "cat_color                    7.000000\n",
       "cat_cut                      2.000000\n",
       "cat_culet                    4.000000\n",
       "cat_polish                   2.000000\n",
       "cat_symmetry                 2.000000\n",
       "cat_fluorescence_reduced     4.000000\n",
       "Name: 12608, dtype: float64"
      ]
     },
     "execution_count": 112,
     "metadata": {},
     "output_type": "execute_result"
    }
   ],
   "source": [
    "X_train.loc[12608,:]"
   ]
  },
  {
   "cell_type": "code",
   "execution_count": 125,
   "metadata": {},
   "outputs": [
    {
     "data": {
      "text/plain": [
       "23505"
      ]
     },
     "execution_count": 125,
     "metadata": {},
     "output_type": "execute_result"
    }
   ],
   "source": [
    "y_train.loc[13655]"
   ]
  },
  {
   "cell_type": "code",
   "execution_count": 124,
   "metadata": {},
   "outputs": [
    {
     "data": {
      "text/plain": [
       "13655    4218.013839\n",
       "12656    4218.013839\n",
       "13903    4142.958541\n",
       "12904    4142.958541\n",
       "14250    4005.821647\n",
       "13335    3729.608978\n",
       "7961     3662.898052\n",
       "6962     3662.898052\n",
       "8960     3662.898052\n",
       "14009    3595.660794\n",
       "12074    3577.778568\n",
       "13073    3577.778568\n",
       "13394    3512.125229\n",
       "12395    3512.125229\n",
       "11110    3511.428764\n",
       "10111    3511.428764\n",
       "10140    3510.894466\n",
       "9141     3510.894466\n",
       "11139    3510.894466\n",
       "6063     3475.993627\n",
       "8061     3475.993627\n",
       "7062     3475.993627\n",
       "13756    3454.840565\n",
       "12757    3454.840565\n",
       "12925    3442.515002\n",
       "11640    3439.667632\n",
       "9642     3439.667632\n",
       "10641    3439.667632\n",
       "13879    3430.551664\n",
       "12880    3430.551664\n",
       "            ...     \n",
       "14682   -4596.816535\n",
       "13590   -4647.872593\n",
       "12591   -4647.872593\n",
       "14497   -4756.580083\n",
       "14690   -4783.699815\n",
       "14487   -4795.811148\n",
       "13526   -4912.533354\n",
       "12527   -4912.533354\n",
       "14553   -5022.185978\n",
       "14323   -5077.887580\n",
       "6193    -5088.722931\n",
       "7192    -5088.722931\n",
       "8191    -5088.722931\n",
       "14240   -5139.943597\n",
       "14609   -5167.272084\n",
       "10808   -5195.009257\n",
       "14156   -5217.903369\n",
       "14636   -5222.412382\n",
       "14286   -5464.206881\n",
       "14583   -5709.130457\n",
       "14669   -5779.487118\n",
       "14528   -5793.288040\n",
       "14675   -5913.504177\n",
       "14602   -5951.028949\n",
       "12608   -6038.117189\n",
       "13607   -6038.117189\n",
       "14398   -6232.527407\n",
       "14511   -6353.183501\n",
       "12990   -7632.569369\n",
       "11991   -7632.569369\n",
       "Name: price, Length: 11764, dtype: float64"
      ]
     },
     "execution_count": 124,
     "metadata": {},
     "output_type": "execute_result"
    }
   ],
   "source": [
    "(predictions.reshape(-1) - y_train).sort_values(ascending=False)"
   ]
  },
  {
   "cell_type": "code",
   "execution_count": 95,
   "metadata": {},
   "outputs": [
    {
     "data": {
      "text/plain": [
       "Text(0.5, 1.0, 'Residual plot')"
      ]
     },
     "execution_count": 95,
     "metadata": {},
     "output_type": "execute_result"
    },
    {
     "data": {
      "image/png": "[encoded data removed]",
      "text/plain": [
       "<Figure size 432x288 with 1 Axes>"
      ]
     },
     "metadata": {
      "needs_background": "light"
     },
     "output_type": "display_data"
    }
   ],
   "source": [
    "sns.residplot(predictions.reshape(-1), y_train, lowess=True,\n",
    "                                  line_kws={'color': 'red', 'lw': 1, 'alpha': 1})\n",
    "plt.xlabel(\"Fitted values\")\n",
    "plt.title('Residual plot')"
   ]
  },
  {
   "cell_type": "code",
   "execution_count": 96,
   "metadata": {},
   "outputs": [
    {
     "data": {
      "text/plain": [
       "Text(0.5, 1.0, 'Normal Q-Q Plot')"
      ]
     },
     "execution_count": 96,
     "metadata": {},
     "output_type": "execute_result"
    },
    {
     "data": {
      "image/png": "[encoded data removed]",
      "text/plain": [
       "<Figure size 504x504 with 1 Axes>"
      ]
     },
     "metadata": {
      "needs_background": "light"
     },
     "output_type": "display_data"
    }
   ],
   "source": [
    "residuals = y_train - predictions.reshape(-1)\n",
    "\n",
    "plt.figure(figsize=(7,7))\n",
    "stats.probplot(residuals, dist=\"norm\", plot=plt)\n",
    "plt.title(\"Normal Q-Q Plot\")"
   ]
  },
  {
   "cell_type": "code",
   "execution_count": 72,
   "metadata": {},
   "outputs": [
    {
     "data": {
      "text/plain": [
       "Text(0.5, 0, 'Fitted value')"
      ]
     },
     "execution_count": 72,
     "metadata": {},
     "output_type": "execute_result"
    },
    {
     "data": {
      "image/png": "[encoded data removed]",
      "text/plain": [
       "<Figure size 504x504 with 1 Axes>"
      ]
     },
     "metadata": {
      "needs_background": "light"
     },
     "output_type": "display_data"
    }
   ],
   "source": [
    "model_norm_residuals_abs_sqrt=np.sqrt(np.abs(residuals))\n",
    "\n",
    "plt.figure(figsize=(7,7))\n",
    "sns.regplot(predictions.reshape(-1), model_norm_residuals_abs_sqrt,\n",
    "              scatter=True,\n",
    "              lowess=True,\n",
    "              line_kws={'color': 'red', 'lw': 1, 'alpha': 0.8})\n",
    "plt.ylabel(\"Standarized residuals\")\n",
    "plt.xlabel(\"Fitted value\")"
   ]
  },
  {
   "cell_type": "code",
   "execution_count": 62,
   "metadata": {},
   "outputs": [
    {
     "name": "stdout",
     "output_type": "stream",
     "text": [
      "Root mean squared error: 1149.71 (+/- 56.28)\n"
     ]
    }
   ],
   "source": [
    "ridge = Ridge(alpha=1.0)\n",
    "ridge_scores = print_cv_score(ridge, X_train_poly, y_train)"
   ]
  },
  {
   "cell_type": "code",
   "execution_count": 47,
   "metadata": {},
   "outputs": [
    {
     "data": {
      "text/plain": [
       "(11764, 152)"
      ]
     },
     "execution_count": 47,
     "metadata": {},
     "output_type": "execute_result"
    }
   ],
   "source": [
    "X_train_poly.shape"
   ]
  },
  {
   "cell_type": "code",
   "execution_count": 27,
   "metadata": {},
   "outputs": [
    {
     "name": "stdout",
     "output_type": "stream",
     "text": [
      "Root mean squared error: 2100.41 (+/- 69.37)\n"
     ]
    }
   ],
   "source": [
    "ada = AdaBoostRegressor(random_state=SEED, n_estimators=50)\n",
    "ada_scores = print_cv_score(ada, X_train_poly, y_train)"
   ]
  },
  {
   "cell_type": "code",
   "execution_count": 19,
   "metadata": {},
   "outputs": [
    {
     "name": "stdout",
     "output_type": "stream",
     "text": [
      "Root mean squared error: 1147.56 (+/- 54.89)\n"
     ]
    }
   ],
   "source": [
    "rr = BayesianRidge()\n",
    "rr_scores = print_cv_score(rr, X_train_poly, y_train)"
   ]
  },
  {
   "cell_type": "code",
   "execution_count": null,
   "metadata": {},
   "outputs": [],
   "source": [
    "svr = SVR(kernel='linear')\n",
    "svr_scores = print_cv_score(svr, X_train_poly, y_train)"
   ]
  },
  {
   "cell_type": "code",
   "execution_count": 24,
   "metadata": {},
   "outputs": [
    {
     "name": "stdout",
     "output_type": "stream",
     "text": [
      "Root mean squared error: 3006.36 (+/- 77.42)\n"
     ]
    }
   ],
   "source": [
    "params = {'n_estimators': 50,\n",
    "          'max_depth': 6,\n",
    "          'min_samples_split': 3,\n",
    "          'learning_rate': 0.01,\n",
    "          'loss': 'ls'}\n",
    "gbr = GradientBoostingRegressor(**params)\n",
    "gbr_scores = print_cv_score(gbr, X_train_poly, y_train)"
   ]
  },
  {
   "cell_type": "code",
   "execution_count": 130,
   "metadata": {},
   "outputs": [
    {
     "name": "stdout",
     "output_type": "stream",
     "text": [
      "Root mean squared error: 1164.80 (+/- 44.96)\n"
     ]
    }
   ],
   "source": [
    "# this is prone to overfitting\n",
    "tree = DecisionTreeRegressor(min_samples_split=10, random_state=SEED)\n",
    "tree_scores = print_cv_score(tree, X_train_poly, y_train)"
   ]
  },
  {
   "cell_type": "code",
   "execution_count": 61,
   "metadata": {},
   "outputs": [
    {
     "name": "stdout",
     "output_type": "stream",
     "text": [
      "Root mean squared error: 1290.16 (+/- 61.72)\n"
     ]
    }
   ],
   "source": [
    "rf = RandomForestRegressor(n_estimators=50, max_depth=8, random_state=SEED)\n",
    "rf_scores = print_cv_score(rf, X_train_poly, y_train)"
   ]
  },
  {
   "cell_type": "code",
   "execution_count": 131,
   "metadata": {},
   "outputs": [
    {
     "name": "stdout",
     "output_type": "stream",
     "text": [
      "Root mean squared error: 2410.76 (+/- 108.47)\n"
     ]
    }
   ],
   "source": [
    "rf = RandomForestRegressor(n_estimators=1000, max_depth=5, random_state=SEED)\n",
    "rf_scores = print_cv_score(rf, X_train, y_train)"
   ]
  },
  {
   "cell_type": "code",
   "execution_count": null,
   "metadata": {},
   "outputs": [],
   "source": []
  }
 ],
 "metadata": {
  "file_extension": ".py",
  "kernelspec": {
   "display_name": "Python 3",
   "language": "python",
   "name": "python3"
  },
  "language_info": {
   "codemirror_mode": {
    "name": "ipython",
    "version": 3
   },
   "file_extension": ".py",
   "mimetype": "text/x-python",
   "name": "python",
   "nbconvert_exporter": "python",
   "pygments_lexer": "ipython3",
   "version": "3.6.10"
  },
  "mimetype": "text/x-python",
  "name": "python",
  "npconvert_exporter": "python",
  "pygments_lexer": "ipython3",
  "version": 3
 },
 "nbformat": 4,
 "nbformat_minor": 2
}
